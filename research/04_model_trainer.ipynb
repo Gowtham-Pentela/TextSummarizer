{
 "cells": [
  {
   "cell_type": "code",
   "execution_count": 1,
   "metadata": {},
   "outputs": [
    {
     "data": {
      "text/plain": [
       "'c:\\\\Users\\\\Gpentela\\\\Desktop\\\\Gowtham\\\\TextSummarizer'"
      ]
     },
     "execution_count": 1,
     "metadata": {},
     "output_type": "execute_result"
    }
   ],
   "source": [
    "import os\n",
    "os.chdir(\"../\")\n",
    "%pwd"
   ]
  },
  {
   "cell_type": "code",
   "execution_count": 2,
   "metadata": {},
   "outputs": [
    {
     "name": "stdout",
     "output_type": "stream",
     "text": [
      "Requirement already satisfied: accelerate in c:\\users\\gpentela\\desktop\\gowtham\\textsummarizer\\texts\\lib\\site-packages (1.6.0)\n",
      "Requirement already satisfied: numpy<3.0.0,>=1.17 in c:\\users\\gpentela\\desktop\\gowtham\\textsummarizer\\texts\\lib\\site-packages (from accelerate) (2.0.2)\n",
      "Requirement already satisfied: packaging>=20.0 in c:\\users\\gpentela\\desktop\\gowtham\\textsummarizer\\texts\\lib\\site-packages (from accelerate) (25.0)\n",
      "Requirement already satisfied: psutil in c:\\users\\gpentela\\desktop\\gowtham\\textsummarizer\\texts\\lib\\site-packages (from accelerate) (7.0.0)\n",
      "Requirement already satisfied: pyyaml in c:\\users\\gpentela\\desktop\\gowtham\\textsummarizer\\texts\\lib\\site-packages (from accelerate) (6.0.2)\n",
      "Collecting torch>=2.0.0 (from accelerate)\n",
      "  Downloading torch-2.7.0-cp39-cp39-win_amd64.whl.metadata (29 kB)\n",
      "Requirement already satisfied: huggingface-hub>=0.21.0 in c:\\users\\gpentela\\desktop\\gowtham\\textsummarizer\\texts\\lib\\site-packages (from accelerate) (0.30.2)\n",
      "Requirement already satisfied: safetensors>=0.4.3 in c:\\users\\gpentela\\desktop\\gowtham\\textsummarizer\\texts\\lib\\site-packages (from accelerate) (0.5.3)\n",
      "Requirement already satisfied: filelock in c:\\users\\gpentela\\desktop\\gowtham\\textsummarizer\\texts\\lib\\site-packages (from huggingface-hub>=0.21.0->accelerate) (3.18.0)\n",
      "Requirement already satisfied: fsspec>=2023.5.0 in c:\\users\\gpentela\\desktop\\gowtham\\textsummarizer\\texts\\lib\\site-packages (from huggingface-hub>=0.21.0->accelerate) (2024.12.0)\n",
      "Requirement already satisfied: requests in c:\\users\\gpentela\\desktop\\gowtham\\textsummarizer\\texts\\lib\\site-packages (from huggingface-hub>=0.21.0->accelerate) (2.32.3)\n",
      "Requirement already satisfied: tqdm>=4.42.1 in c:\\users\\gpentela\\desktop\\gowtham\\textsummarizer\\texts\\lib\\site-packages (from huggingface-hub>=0.21.0->accelerate) (4.67.1)\n",
      "Requirement already satisfied: typing-extensions>=3.7.4.3 in c:\\users\\gpentela\\desktop\\gowtham\\textsummarizer\\texts\\lib\\site-packages (from huggingface-hub>=0.21.0->accelerate) (4.13.2)\n",
      "Requirement already satisfied: sympy>=1.13.3 in c:\\users\\gpentela\\desktop\\gowtham\\textsummarizer\\texts\\lib\\site-packages (from torch>=2.0.0->accelerate) (1.13.3)\n",
      "Requirement already satisfied: networkx in c:\\users\\gpentela\\desktop\\gowtham\\textsummarizer\\texts\\lib\\site-packages (from torch>=2.0.0->accelerate) (3.2.1)\n",
      "Requirement already satisfied: jinja2 in c:\\users\\gpentela\\desktop\\gowtham\\textsummarizer\\texts\\lib\\site-packages (from torch>=2.0.0->accelerate) (3.1.6)\n",
      "Requirement already satisfied: mpmath<1.4,>=1.1.0 in c:\\users\\gpentela\\desktop\\gowtham\\textsummarizer\\texts\\lib\\site-packages (from sympy>=1.13.3->torch>=2.0.0->accelerate) (1.3.0)\n",
      "Requirement already satisfied: colorama in c:\\users\\gpentela\\desktop\\gowtham\\textsummarizer\\texts\\lib\\site-packages (from tqdm>=4.42.1->huggingface-hub>=0.21.0->accelerate) (0.4.6)\n",
      "Requirement already satisfied: MarkupSafe>=2.0 in c:\\users\\gpentela\\desktop\\gowtham\\textsummarizer\\texts\\lib\\site-packages (from jinja2->torch>=2.0.0->accelerate) (3.0.2)\n",
      "Requirement already satisfied: charset-normalizer<4,>=2 in c:\\users\\gpentela\\desktop\\gowtham\\textsummarizer\\texts\\lib\\site-packages (from requests->huggingface-hub>=0.21.0->accelerate) (3.4.1)\n",
      "Requirement already satisfied: idna<4,>=2.5 in c:\\users\\gpentela\\desktop\\gowtham\\textsummarizer\\texts\\lib\\site-packages (from requests->huggingface-hub>=0.21.0->accelerate) (3.10)\n",
      "Requirement already satisfied: urllib3<3,>=1.21.1 in c:\\users\\gpentela\\desktop\\gowtham\\textsummarizer\\texts\\lib\\site-packages (from requests->huggingface-hub>=0.21.0->accelerate) (1.26.20)\n",
      "Requirement already satisfied: certifi>=2017.4.17 in c:\\users\\gpentela\\desktop\\gowtham\\textsummarizer\\texts\\lib\\site-packages (from requests->huggingface-hub>=0.21.0->accelerate) (2025.1.31)\n",
      "Downloading torch-2.7.0-cp39-cp39-win_amd64.whl (212.4 MB)\n",
      "   ---------------------------------------- 0.0/212.4 MB ? eta -:--:--\n",
      "   --- ------------------------------------ 18.9/212.4 MB 99.0 MB/s eta 0:00:02\n",
      "   ------- ------------------------------- 42.7/212.4 MB 108.6 MB/s eta 0:00:02\n",
      "   ----------- --------------------------- 62.1/212.4 MB 101.4 MB/s eta 0:00:02\n",
      "   -------------- ------------------------- 74.7/212.4 MB 89.9 MB/s eta 0:00:02\n",
      "   --------------- ------------------------ 81.5/212.4 MB 78.8 MB/s eta 0:00:02\n",
      "   ---------------- ----------------------- 88.3/212.4 MB 70.5 MB/s eta 0:00:02\n",
      "   ------------------ --------------------- 95.7/212.4 MB 65.7 MB/s eta 0:00:02\n",
      "   ------------------- ------------------- 103.5/212.4 MB 61.2 MB/s eta 0:00:02\n",
      "   -------------------- ------------------ 111.1/212.4 MB 58.6 MB/s eta 0:00:02\n",
      "   --------------------- ----------------- 117.2/212.4 MB 55.8 MB/s eta 0:00:02\n",
      "   ---------------------- ---------------- 122.7/212.4 MB 53.3 MB/s eta 0:00:02\n",
      "   ----------------------- --------------- 128.5/212.4 MB 50.9 MB/s eta 0:00:02\n",
      "   ------------------------ -------------- 135.5/212.4 MB 49.5 MB/s eta 0:00:02\n",
      "   -------------------------- ------------ 142.6/212.4 MB 48.4 MB/s eta 0:00:02\n",
      "   --------------------------- ----------- 149.9/212.4 MB 47.7 MB/s eta 0:00:02\n",
      "   ----------------------------- --------- 158.1/212.4 MB 47.0 MB/s eta 0:00:02\n",
      "   ------------------------------ -------- 165.9/212.4 MB 46.5 MB/s eta 0:00:01\n",
      "   ------------------------------- ------- 174.1/212.4 MB 46.2 MB/s eta 0:00:01\n",
      "   --------------------------------- ----- 182.2/212.4 MB 45.8 MB/s eta 0:00:01\n",
      "   ----------------------------------- --- 191.6/212.4 MB 45.7 MB/s eta 0:00:01\n",
      "   ------------------------------------ -- 201.3/212.4 MB 45.6 MB/s eta 0:00:01\n",
      "   --------------------------------------  211.6/212.4 MB 45.7 MB/s eta 0:00:01\n",
      "   --------------------------------------  212.3/212.4 MB 45.7 MB/s eta 0:00:01\n",
      "   --------------------------------------- 212.4/212.4 MB 43.5 MB/s eta 0:00:00\n",
      "Installing collected packages: torch\n",
      "Successfully installed torch-2.7.0\n",
      "Note: you may need to restart the kernel to use updated packages.\n"
     ]
    },
    {
     "name": "stderr",
     "output_type": "stream",
     "text": [
      "WARNING: Ignoring invalid distribution -orch (c:\\users\\gpentela\\desktop\\gowtham\\textsummarizer\\texts\\lib\\site-packages)\n",
      "WARNING: Ignoring invalid distribution -orch (c:\\users\\gpentela\\desktop\\gowtham\\textsummarizer\\texts\\lib\\site-packages)\n",
      "WARNING: Ignoring invalid distribution -orch (c:\\users\\gpentela\\desktop\\gowtham\\textsummarizer\\texts\\lib\\site-packages)\n"
     ]
    },
    {
     "name": "stdout",
     "output_type": "stream",
     "text": [
      "Found existing installation: transformers 4.51.3\n",
      "Uninstalling transformers-4.51.3:\n",
      "  Successfully uninstalled transformers-4.51.3\n",
      "Found existing installation: accelerate 1.6.0\n",
      "Uninstalling accelerate-1.6.0:\n",
      "  Successfully uninstalled accelerate-1.6.0\n",
      "Note: you may need to restart the kernel to use updated packages.\n",
      "Collecting transformers\n",
      "  Using cached transformers-4.51.3-py3-none-any.whl.metadata (38 kB)\n",
      "Collecting accelerate\n",
      "  Using cached accelerate-1.6.0-py3-none-any.whl.metadata (19 kB)\n",
      "Requirement already satisfied: filelock in c:\\users\\gpentela\\desktop\\gowtham\\textsummarizer\\texts\\lib\\site-packages (from transformers) (3.18.0)\n",
      "Requirement already satisfied: huggingface-hub<1.0,>=0.30.0 in c:\\users\\gpentela\\desktop\\gowtham\\textsummarizer\\texts\\lib\\site-packages (from transformers) (0.30.2)\n",
      "Requirement already satisfied: numpy>=1.17 in c:\\users\\gpentela\\desktop\\gowtham\\textsummarizer\\texts\\lib\\site-packages (from transformers) (2.0.2)\n",
      "Requirement already satisfied: packaging>=20.0 in c:\\users\\gpentela\\desktop\\gowtham\\textsummarizer\\texts\\lib\\site-packages (from transformers) (25.0)\n",
      "Requirement already satisfied: pyyaml>=5.1 in c:\\users\\gpentela\\desktop\\gowtham\\textsummarizer\\texts\\lib\\site-packages (from transformers) (6.0.2)\n",
      "Requirement already satisfied: regex!=2019.12.17 in c:\\users\\gpentela\\desktop\\gowtham\\textsummarizer\\texts\\lib\\site-packages (from transformers) (2024.11.6)\n",
      "Requirement already satisfied: requests in c:\\users\\gpentela\\desktop\\gowtham\\textsummarizer\\texts\\lib\\site-packages (from transformers) (2.32.3)\n",
      "Requirement already satisfied: tokenizers<0.22,>=0.21 in c:\\users\\gpentela\\desktop\\gowtham\\textsummarizer\\texts\\lib\\site-packages (from transformers) (0.21.1)\n",
      "Requirement already satisfied: safetensors>=0.4.3 in c:\\users\\gpentela\\desktop\\gowtham\\textsummarizer\\texts\\lib\\site-packages (from transformers) (0.5.3)\n",
      "Requirement already satisfied: tqdm>=4.27 in c:\\users\\gpentela\\desktop\\gowtham\\textsummarizer\\texts\\lib\\site-packages (from transformers) (4.67.1)\n",
      "Requirement already satisfied: psutil in c:\\users\\gpentela\\desktop\\gowtham\\textsummarizer\\texts\\lib\\site-packages (from accelerate) (7.0.0)\n",
      "Requirement already satisfied: torch>=2.0.0 in c:\\users\\gpentela\\desktop\\gowtham\\textsummarizer\\texts\\lib\\site-packages (from accelerate) (2.7.0)\n",
      "Requirement already satisfied: fsspec>=2023.5.0 in c:\\users\\gpentela\\desktop\\gowtham\\textsummarizer\\texts\\lib\\site-packages (from huggingface-hub<1.0,>=0.30.0->transformers) (2024.12.0)\n",
      "Requirement already satisfied: typing-extensions>=3.7.4.3 in c:\\users\\gpentela\\desktop\\gowtham\\textsummarizer\\texts\\lib\\site-packages (from huggingface-hub<1.0,>=0.30.0->transformers) (4.13.2)\n",
      "Requirement already satisfied: sympy>=1.13.3 in c:\\users\\gpentela\\desktop\\gowtham\\textsummarizer\\texts\\lib\\site-packages (from torch>=2.0.0->accelerate) (1.13.3)\n",
      "Requirement already satisfied: networkx in c:\\users\\gpentela\\desktop\\gowtham\\textsummarizer\\texts\\lib\\site-packages (from torch>=2.0.0->accelerate) (3.2.1)\n",
      "Requirement already satisfied: jinja2 in c:\\users\\gpentela\\desktop\\gowtham\\textsummarizer\\texts\\lib\\site-packages (from torch>=2.0.0->accelerate) (3.1.6)\n",
      "Requirement already satisfied: colorama in c:\\users\\gpentela\\desktop\\gowtham\\textsummarizer\\texts\\lib\\site-packages (from tqdm>=4.27->transformers) (0.4.6)\n",
      "Requirement already satisfied: charset-normalizer<4,>=2 in c:\\users\\gpentela\\desktop\\gowtham\\textsummarizer\\texts\\lib\\site-packages (from requests->transformers) (3.4.1)\n",
      "Requirement already satisfied: idna<4,>=2.5 in c:\\users\\gpentela\\desktop\\gowtham\\textsummarizer\\texts\\lib\\site-packages (from requests->transformers) (3.10)\n",
      "Requirement already satisfied: urllib3<3,>=1.21.1 in c:\\users\\gpentela\\desktop\\gowtham\\textsummarizer\\texts\\lib\\site-packages (from requests->transformers) (1.26.20)\n",
      "Requirement already satisfied: certifi>=2017.4.17 in c:\\users\\gpentela\\desktop\\gowtham\\textsummarizer\\texts\\lib\\site-packages (from requests->transformers) (2025.1.31)\n",
      "Requirement already satisfied: mpmath<1.4,>=1.1.0 in c:\\users\\gpentela\\desktop\\gowtham\\textsummarizer\\texts\\lib\\site-packages (from sympy>=1.13.3->torch>=2.0.0->accelerate) (1.3.0)\n",
      "Requirement already satisfied: MarkupSafe>=2.0 in c:\\users\\gpentela\\desktop\\gowtham\\textsummarizer\\texts\\lib\\site-packages (from jinja2->torch>=2.0.0->accelerate) (3.0.2)\n",
      "Using cached transformers-4.51.3-py3-none-any.whl (10.4 MB)\n",
      "Using cached accelerate-1.6.0-py3-none-any.whl (354 kB)\n",
      "Installing collected packages: accelerate, transformers\n",
      "Successfully installed accelerate-1.6.0 transformers-4.51.3\n",
      "Note: you may need to restart the kernel to use updated packages.\n"
     ]
    },
    {
     "name": "stderr",
     "output_type": "stream",
     "text": [
      "WARNING: Ignoring invalid distribution -orch (c:\\users\\gpentela\\desktop\\gowtham\\textsummarizer\\texts\\lib\\site-packages)\n",
      "WARNING: Ignoring invalid distribution -orch (c:\\users\\gpentela\\desktop\\gowtham\\textsummarizer\\texts\\lib\\site-packages)\n",
      "WARNING: Ignoring invalid distribution -orch (c:\\users\\gpentela\\desktop\\gowtham\\textsummarizer\\texts\\lib\\site-packages)\n"
     ]
    }
   ],
   "source": [
    "%pip install --upgrade accelerate\n",
    "%pip uninstall -y transformers accelerate\n",
    "%pip install transformers accelerate"
   ]
  },
  {
   "cell_type": "code",
   "execution_count": 3,
   "metadata": {},
   "outputs": [
    {
     "name": "stdout",
     "output_type": "stream",
     "text": [
      "Requirement already satisfied: datasets==2.13.0 in c:\\users\\gpentela\\desktop\\gowtham\\textsummarizer\\texts\\lib\\site-packages (2.13.0)Note: you may need to restart the kernel to use updated packages.\n"
     ]
    },
    {
     "name": "stderr",
     "output_type": "stream",
     "text": [
      "WARNING: Ignoring invalid distribution -orch (c:\\users\\gpentela\\desktop\\gowtham\\textsummarizer\\texts\\lib\\site-packages)\n",
      "WARNING: Ignoring invalid distribution -orch (c:\\users\\gpentela\\desktop\\gowtham\\textsummarizer\\texts\\lib\\site-packages)\n",
      "WARNING: Ignoring invalid distribution -orch (c:\\users\\gpentela\\desktop\\gowtham\\textsummarizer\\texts\\lib\\site-packages)\n"
     ]
    },
    {
     "name": "stdout",
     "output_type": "stream",
     "text": [
      "\n",
      "Requirement already satisfied: numpy>=1.17 in c:\\users\\gpentela\\desktop\\gowtham\\textsummarizer\\texts\\lib\\site-packages (from datasets==2.13.0) (2.0.2)\n",
      "Requirement already satisfied: pyarrow>=8.0.0 in c:\\users\\gpentela\\desktop\\gowtham\\textsummarizer\\texts\\lib\\site-packages (from datasets==2.13.0) (19.0.1)\n",
      "Requirement already satisfied: dill<0.3.7,>=0.3.0 in c:\\users\\gpentela\\desktop\\gowtham\\textsummarizer\\texts\\lib\\site-packages (from datasets==2.13.0) (0.3.6)\n",
      "Requirement already satisfied: pandas in c:\\users\\gpentela\\desktop\\gowtham\\textsummarizer\\texts\\lib\\site-packages (from datasets==2.13.0) (2.2.3)\n",
      "Requirement already satisfied: requests>=2.19.0 in c:\\users\\gpentela\\desktop\\gowtham\\textsummarizer\\texts\\lib\\site-packages (from datasets==2.13.0) (2.32.3)\n",
      "Requirement already satisfied: tqdm>=4.62.1 in c:\\users\\gpentela\\desktop\\gowtham\\textsummarizer\\texts\\lib\\site-packages (from datasets==2.13.0) (4.67.1)\n",
      "Requirement already satisfied: xxhash in c:\\users\\gpentela\\desktop\\gowtham\\textsummarizer\\texts\\lib\\site-packages (from datasets==2.13.0) (3.5.0)\n",
      "Requirement already satisfied: multiprocess in c:\\users\\gpentela\\desktop\\gowtham\\textsummarizer\\texts\\lib\\site-packages (from datasets==2.13.0) (0.70.14)\n",
      "Requirement already satisfied: fsspec>=2021.11.1 in c:\\users\\gpentela\\desktop\\gowtham\\textsummarizer\\texts\\lib\\site-packages (from fsspec[http]>=2021.11.1->datasets==2.13.0) (2024.12.0)\n",
      "Requirement already satisfied: aiohttp in c:\\users\\gpentela\\desktop\\gowtham\\textsummarizer\\texts\\lib\\site-packages (from datasets==2.13.0) (3.11.18)\n",
      "Requirement already satisfied: huggingface-hub<1.0.0,>=0.11.0 in c:\\users\\gpentela\\desktop\\gowtham\\textsummarizer\\texts\\lib\\site-packages (from datasets==2.13.0) (0.30.2)\n",
      "Requirement already satisfied: packaging in c:\\users\\gpentela\\desktop\\gowtham\\textsummarizer\\texts\\lib\\site-packages (from datasets==2.13.0) (25.0)\n",
      "Requirement already satisfied: pyyaml>=5.1 in c:\\users\\gpentela\\desktop\\gowtham\\textsummarizer\\texts\\lib\\site-packages (from datasets==2.13.0) (6.0.2)\n",
      "Requirement already satisfied: aiohappyeyeballs>=2.3.0 in c:\\users\\gpentela\\desktop\\gowtham\\textsummarizer\\texts\\lib\\site-packages (from aiohttp->datasets==2.13.0) (2.6.1)\n",
      "Requirement already satisfied: aiosignal>=1.1.2 in c:\\users\\gpentela\\desktop\\gowtham\\textsummarizer\\texts\\lib\\site-packages (from aiohttp->datasets==2.13.0) (1.3.2)\n",
      "Requirement already satisfied: async-timeout<6.0,>=4.0 in c:\\users\\gpentela\\desktop\\gowtham\\textsummarizer\\texts\\lib\\site-packages (from aiohttp->datasets==2.13.0) (5.0.1)\n",
      "Requirement already satisfied: attrs>=17.3.0 in c:\\users\\gpentela\\desktop\\gowtham\\textsummarizer\\texts\\lib\\site-packages (from aiohttp->datasets==2.13.0) (25.3.0)\n",
      "Requirement already satisfied: frozenlist>=1.1.1 in c:\\users\\gpentela\\desktop\\gowtham\\textsummarizer\\texts\\lib\\site-packages (from aiohttp->datasets==2.13.0) (1.6.0)\n",
      "Requirement already satisfied: multidict<7.0,>=4.5 in c:\\users\\gpentela\\desktop\\gowtham\\textsummarizer\\texts\\lib\\site-packages (from aiohttp->datasets==2.13.0) (6.4.3)\n",
      "Requirement already satisfied: propcache>=0.2.0 in c:\\users\\gpentela\\desktop\\gowtham\\textsummarizer\\texts\\lib\\site-packages (from aiohttp->datasets==2.13.0) (0.3.1)\n",
      "Requirement already satisfied: yarl<2.0,>=1.17.0 in c:\\users\\gpentela\\desktop\\gowtham\\textsummarizer\\texts\\lib\\site-packages (from aiohttp->datasets==2.13.0) (1.20.0)\n",
      "Requirement already satisfied: filelock in c:\\users\\gpentela\\desktop\\gowtham\\textsummarizer\\texts\\lib\\site-packages (from huggingface-hub<1.0.0,>=0.11.0->datasets==2.13.0) (3.18.0)\n",
      "Requirement already satisfied: typing-extensions>=3.7.4.3 in c:\\users\\gpentela\\desktop\\gowtham\\textsummarizer\\texts\\lib\\site-packages (from huggingface-hub<1.0.0,>=0.11.0->datasets==2.13.0) (4.13.2)\n",
      "Requirement already satisfied: charset-normalizer<4,>=2 in c:\\users\\gpentela\\desktop\\gowtham\\textsummarizer\\texts\\lib\\site-packages (from requests>=2.19.0->datasets==2.13.0) (3.4.1)\n",
      "Requirement already satisfied: idna<4,>=2.5 in c:\\users\\gpentela\\desktop\\gowtham\\textsummarizer\\texts\\lib\\site-packages (from requests>=2.19.0->datasets==2.13.0) (3.10)\n",
      "Requirement already satisfied: urllib3<3,>=1.21.1 in c:\\users\\gpentela\\desktop\\gowtham\\textsummarizer\\texts\\lib\\site-packages (from requests>=2.19.0->datasets==2.13.0) (1.26.20)\n",
      "Requirement already satisfied: certifi>=2017.4.17 in c:\\users\\gpentela\\desktop\\gowtham\\textsummarizer\\texts\\lib\\site-packages (from requests>=2.19.0->datasets==2.13.0) (2025.1.31)\n",
      "Requirement already satisfied: colorama in c:\\users\\gpentela\\desktop\\gowtham\\textsummarizer\\texts\\lib\\site-packages (from tqdm>=4.62.1->datasets==2.13.0) (0.4.6)\n",
      "Requirement already satisfied: python-dateutil>=2.8.2 in c:\\users\\gpentela\\desktop\\gowtham\\textsummarizer\\texts\\lib\\site-packages (from pandas->datasets==2.13.0) (2.9.0.post0)\n",
      "Requirement already satisfied: pytz>=2020.1 in c:\\users\\gpentela\\desktop\\gowtham\\textsummarizer\\texts\\lib\\site-packages (from pandas->datasets==2.13.0) (2025.2)\n",
      "Requirement already satisfied: tzdata>=2022.7 in c:\\users\\gpentela\\desktop\\gowtham\\textsummarizer\\texts\\lib\\site-packages (from pandas->datasets==2.13.0) (2025.2)\n",
      "Requirement already satisfied: six>=1.5 in c:\\users\\gpentela\\desktop\\gowtham\\textsummarizer\\texts\\lib\\site-packages (from python-dateutil>=2.8.2->pandas->datasets==2.13.0) (1.17.0)\n"
     ]
    }
   ],
   "source": [
    "%pip install datasets==2.13.0\n"
   ]
  },
  {
   "cell_type": "code",
   "execution_count": 4,
   "metadata": {},
   "outputs": [
    {
     "name": "stdout",
     "output_type": "stream",
     "text": [
      "Looking in indexes: https://download.pytorch.org/whl/cu124\n",
      "Requirement already satisfied: torch in c:\\users\\gpentela\\desktop\\gowtham\\textsummarizer\\texts\\lib\\site-packages (2.7.0)\n",
      "Collecting torchvision\n",
      "  Using cached https://download.pytorch.org/whl/cu124/torchvision-0.21.0%2Bcu124-cp39-cp39-win_amd64.whl.metadata (6.3 kB)\n",
      "Collecting torchaudio\n",
      "  Using cached https://download.pytorch.org/whl/cu124/torchaudio-2.6.0%2Bcu124-cp39-cp39-win_amd64.whl.metadata (6.8 kB)\n",
      "Requirement already satisfied: filelock in c:\\users\\gpentela\\desktop\\gowtham\\textsummarizer\\texts\\lib\\site-packages (from torch) (3.18.0)\n",
      "Requirement already satisfied: typing-extensions>=4.10.0 in c:\\users\\gpentela\\desktop\\gowtham\\textsummarizer\\texts\\lib\\site-packages (from torch) (4.13.2)\n",
      "Requirement already satisfied: sympy>=1.13.3 in c:\\users\\gpentela\\desktop\\gowtham\\textsummarizer\\texts\\lib\\site-packages (from torch) (1.13.3)\n",
      "Requirement already satisfied: networkx in c:\\users\\gpentela\\desktop\\gowtham\\textsummarizer\\texts\\lib\\site-packages (from torch) (3.2.1)\n",
      "Requirement already satisfied: jinja2 in c:\\users\\gpentela\\desktop\\gowtham\\textsummarizer\\texts\\lib\\site-packages (from torch) (3.1.6)\n",
      "Requirement already satisfied: fsspec in c:\\users\\gpentela\\desktop\\gowtham\\textsummarizer\\texts\\lib\\site-packages (from torch) (2024.12.0)\n",
      "Requirement already satisfied: numpy in c:\\users\\gpentela\\desktop\\gowtham\\textsummarizer\\texts\\lib\\site-packages (from torchvision) (2.0.2)\n",
      "Collecting torch\n",
      "  Using cached https://download.pytorch.org/whl/cu124/torch-2.6.0%2Bcu124-cp39-cp39-win_amd64.whl.metadata (28 kB)\n",
      "Requirement already satisfied: pillow!=8.3.*,>=5.3.0 in c:\\users\\gpentela\\desktop\\gowtham\\textsummarizer\\texts\\lib\\site-packages (from torchvision) (11.2.1)\n",
      "Collecting sympy==1.13.1 (from torch)\n",
      "  Using cached https://download.pytorch.org/whl/sympy-1.13.1-py3-none-any.whl (6.2 MB)\n",
      "Requirement already satisfied: mpmath<1.4,>=1.1.0 in c:\\users\\gpentela\\desktop\\gowtham\\textsummarizer\\texts\\lib\\site-packages (from sympy==1.13.1->torch) (1.3.0)\n",
      "Requirement already satisfied: MarkupSafe>=2.0 in c:\\users\\gpentela\\desktop\\gowtham\\textsummarizer\\texts\\lib\\site-packages (from jinja2->torch) (3.0.2)\n",
      "Using cached https://download.pytorch.org/whl/cu124/torchvision-0.21.0%2Bcu124-cp39-cp39-win_amd64.whl (6.1 MB)\n",
      "Using cached https://download.pytorch.org/whl/cu124/torch-2.6.0%2Bcu124-cp39-cp39-win_amd64.whl (2532.2 MB)\n",
      "Using cached https://download.pytorch.org/whl/cu124/torchaudio-2.6.0%2Bcu124-cp39-cp39-win_amd64.whl (4.2 MB)\n",
      "Installing collected packages: sympy, torch, torchvision, torchaudio\n",
      "  Attempting uninstall: sympy\n",
      "    Found existing installation: sympy 1.13.3\n",
      "    Uninstalling sympy-1.13.3:\n",
      "      Successfully uninstalled sympy-1.13.3\n",
      "  Attempting uninstall: torch\n",
      "    Found existing installation: torch 2.7.0\n",
      "    Uninstalling torch-2.7.0:\n",
      "      Successfully uninstalled torch-2.7.0\n",
      "Successfully installed sympy-1.13.1 torch-2.6.0+cu124 torchaudio-2.6.0+cu124 torchvision-0.21.0+cu124\n",
      "Note: you may need to restart the kernel to use updated packages.\n"
     ]
    },
    {
     "name": "stderr",
     "output_type": "stream",
     "text": [
      "WARNING: Ignoring invalid distribution -orch (c:\\users\\gpentela\\desktop\\gowtham\\textsummarizer\\texts\\lib\\site-packages)\n",
      "WARNING: Ignoring invalid distribution -orch (c:\\users\\gpentela\\desktop\\gowtham\\textsummarizer\\texts\\lib\\site-packages)\n",
      "WARNING: Ignoring invalid distribution -orch (c:\\users\\gpentela\\desktop\\gowtham\\textsummarizer\\texts\\lib\\site-packages)\n"
     ]
    }
   ],
   "source": [
    "%pip install torch torchvision torchaudio --index-url https://download.pytorch.org/whl/cu124"
   ]
  },
  {
   "cell_type": "code",
   "execution_count": 5,
   "metadata": {},
   "outputs": [],
   "source": [
    "# defining entity\n",
    "from dataclasses import dataclass\n",
    "from pathlib import Path\n",
    "\n",
    "@dataclass(frozen=True)\n",
    "class ModelTrainerConfig:\n",
    "    root_dir: Path\n",
    "    data_path: Path\n",
    "    model_ckpt: Path\n",
    "    num_train_epochs: int\n",
    "    warmup_steps: int\n",
    "    per_device_train_batch_size: int\n",
    "    weight_decay: float\n",
    "    logging_steps: int\n",
    "    eval_strategy: str\n",
    "    eval_steps: int\n",
    "    save_steps: float\n",
    "    gradient_accumulation_steps: int"
   ]
  },
  {
   "cell_type": "code",
   "execution_count": 6,
   "metadata": {},
   "outputs": [],
   "source": [
    "# define configuration manager\n",
    "\n",
    "from textSummarizer.constants import *\n",
    "from textSummarizer.utils.common import read_yaml, create_directories\n",
    "\n",
    "class ConfigurationManager:\n",
    "    def __init__(\n",
    "        self,\n",
    "        config_filepath = CONFIG_FILE_PATH,\n",
    "        params_filepath = PARAMS_FILE_PATH):\n",
    "\n",
    "        self.config = read_yaml(config_filepath)\n",
    "        self.params = read_yaml(params_filepath)\n",
    "\n",
    "        create_directories([self.config.artifacts_root])\n",
    "    \n",
    "    def get_model_trainer_config(self) -> ModelTrainerConfig:\n",
    "        config = self.config.model_trainer\n",
    "        params = self.params.TrainingArguments\n",
    "\n",
    "        create_directories([config.root_dir])\n",
    "\n",
    "        model_trainer_config = ModelTrainerConfig(\n",
    "            root_dir=config.root_dir,\n",
    "            data_path=config.data_path,\n",
    "            model_ckpt = config.model_ckpt,\n",
    "            num_train_epochs = params.num_train_epochs,\n",
    "            warmup_steps = params.warmup_steps,\n",
    "            per_device_train_batch_size = params.per_device_train_batch_size,\n",
    "            weight_decay = params.weight_decay,\n",
    "            logging_steps = params.logging_steps,\n",
    "            eval_strategy = params.eval_strategy,\n",
    "            eval_steps = params.eval_steps,\n",
    "            save_steps = params.save_steps,\n",
    "            gradient_accumulation_steps = params.gradient_accumulation_steps\n",
    "        )\n",
    "\n",
    "        return model_trainer_config"
   ]
  },
  {
   "cell_type": "code",
   "execution_count": 7,
   "metadata": {},
   "outputs": [
    {
     "name": "stderr",
     "output_type": "stream",
     "text": [
      "c:\\Users\\Gpentela\\Desktop\\Gowtham\\TextSummarizer\\textS\\lib\\site-packages\\tqdm\\auto.py:21: TqdmWarning: IProgress not found. Please update jupyter and ipywidgets. See https://ipywidgets.readthedocs.io/en/stable/user_install.html\n",
      "  from .autonotebook import tqdm as notebook_tqdm\n"
     ]
    },
    {
     "name": "stdout",
     "output_type": "stream",
     "text": [
      "[2025-04-23 12:34:52,346: INFO: config: PyTorch version 2.6.0+cu124 available.]\n"
     ]
    }
   ],
   "source": [
    "# updating components\n",
    "\n",
    "from transformers import TrainingArguments, Trainer\n",
    "from transformers import DataCollatorForSeq2Seq\n",
    "from transformers import AutoModelForSeq2SeqLM, AutoTokenizer\n",
    "from datasets import load_dataset, load_from_disk\n",
    "import torch\n",
    "\n",
    "\n",
    "class ModelTrainer:\n",
    "    def __init__(self, config: ModelTrainerConfig):\n",
    "        self.config = config\n",
    "\n",
    "\n",
    "    \n",
    "    def train(self):\n",
    "        device = \"cuda\" if torch.cuda.is_available() else \"cpu\"\n",
    "        tokenizer = AutoTokenizer.from_pretrained(self.config.model_ckpt)\n",
    "        model_pegasus = AutoModelForSeq2SeqLM.from_pretrained(self.config.model_ckpt).to(device)\n",
    "        seq2seq_data_collator = DataCollatorForSeq2Seq(tokenizer, model=model_pegasus)\n",
    "        \n",
    "        #loading data \n",
    "        dataset_samsum_pt = load_from_disk(self.config.data_path)\n",
    "\n",
    "        trainer_args = TrainingArguments(\n",
    "            output_dir=self.config.root_dir, num_train_epochs=self.config.num_train_epochs, warmup_steps=self.config.warmup_steps,\n",
    "            per_device_train_batch_size=self.config.per_device_train_batch_size, per_device_eval_batch_size=self.config.per_device_train_batch_size,\n",
    "            weight_decay=self.config.weight_decay, logging_steps=self.config.logging_steps,\n",
    "            eval_strategy=self.config.eval_strategy, eval_steps=self.config.eval_steps, save_steps=1e6,\n",
    "            gradient_accumulation_steps=self.config.gradient_accumulation_steps\n",
    "        ) \n",
    "\n",
    "\n",
    "        # trainer_args = TrainingArguments(\n",
    "        #     output_dir=self.config.root_dir, num_train_epochs=1, warmup_steps=500,\n",
    "        #     per_device_train_batch_size=1, per_device_eval_batch_size=1,\n",
    "        #     weight_decay=0.01, logging_steps=10,\n",
    "        #     evaluation_strategy='steps', eval_steps=500, save_steps=1e6,\n",
    "        #     gradient_accumulation_steps=16\n",
    "        # ) \n",
    "\n",
    "        trainer = Trainer(model=model_pegasus, args=trainer_args,\n",
    "                  tokenizer=tokenizer, data_collator=seq2seq_data_collator,\n",
    "                  train_dataset=dataset_samsum_pt[\"train\"], \n",
    "                  eval_dataset=dataset_samsum_pt[\"validation\"])\n",
    "        \n",
    "        trainer.train()\n",
    "\n",
    "        ## Save model\n",
    "        model_pegasus.save_pretrained(os.path.join(self.config.root_dir,\"pegasus-samsum-model\"))\n",
    "        ## Save tokenizer\n",
    "        tokenizer.save_pretrained(os.path.join(self.config.root_dir,\"tokenizer\"))"
   ]
  },
  {
   "cell_type": "code",
   "execution_count": 8,
   "metadata": {},
   "outputs": [
    {
     "data": {
      "text/plain": [
       "'cuda'"
      ]
     },
     "execution_count": 8,
     "metadata": {},
     "output_type": "execute_result"
    }
   ],
   "source": [
    "device = \"cuda\" if torch.cuda.is_available() else \"cpu\"\n",
    "device"
   ]
  },
  {
   "cell_type": "code",
   "execution_count": 10,
   "metadata": {},
   "outputs": [
    {
     "name": "stdout",
     "output_type": "stream",
     "text": [
      "[2025-04-23 12:36:22,378: INFO: common: yaml file: config\\config.yaml loaded successfully]\n",
      "[2025-04-23 12:36:22,381: INFO: common: yaml file: params.yaml loaded successfully]\n",
      "[2025-04-23 12:36:22,382: INFO: common: created directory at: artifacts]\n",
      "[2025-04-23 12:36:22,383: INFO: common: created directory at: artifacts/model_trainer]\n"
     ]
    },
    {
     "name": "stderr",
     "output_type": "stream",
     "text": [
      "Some weights of PegasusForConditionalGeneration were not initialized from the model checkpoint at google/pegasus-cnn_dailymail and are newly initialized: ['model.decoder.embed_positions.weight', 'model.encoder.embed_positions.weight']\n",
      "You should probably TRAIN this model on a down-stream task to be able to use it for predictions and inference.\n",
      "C:\\Users\\Gpentela\\AppData\\Local\\Temp\\ipykernel_11408\\2050868764.py:42: FutureWarning: `tokenizer` is deprecated and will be removed in version 5.0.0 for `Trainer.__init__`. Use `processing_class` instead.\n",
      "  trainer = Trainer(model=model_pegasus, args=trainer_args,\n"
     ]
    },
    {
     "data": {
      "text/html": [
       "\n",
       "    <div>\n",
       "      \n",
       "      <progress value='920' max='920' style='width:300px; height:20px; vertical-align: middle;'></progress>\n",
       "      [920/920 38:58, Epoch 0/1]\n",
       "    </div>\n",
       "    <table border=\"1\" class=\"dataframe\">\n",
       "  <thead>\n",
       " <tr style=\"text-align: left;\">\n",
       "      <th>Step</th>\n",
       "      <th>Training Loss</th>\n",
       "      <th>Validation Loss</th>\n",
       "    </tr>\n",
       "  </thead>\n",
       "  <tbody>\n",
       "    <tr>\n",
       "      <td>500</td>\n",
       "      <td>1.648200</td>\n",
       "      <td>1.484757</td>\n",
       "    </tr>\n",
       "  </tbody>\n",
       "</table><p>"
      ],
      "text/plain": [
       "<IPython.core.display.HTML object>"
      ]
     },
     "metadata": {},
     "output_type": "display_data"
    },
    {
     "name": "stderr",
     "output_type": "stream",
     "text": [
      "c:\\Users\\Gpentela\\Desktop\\Gowtham\\TextSummarizer\\textS\\lib\\site-packages\\transformers\\modeling_utils.py:3339: UserWarning: Moving the following attributes in the config to the generation config: {'max_length': 128, 'min_length': 32, 'num_beams': 8, 'length_penalty': 0.8}. You are seeing this warning because you've set generation parameters in the model config, as opposed to in the generation config.\n",
      "  warnings.warn(\n"
     ]
    }
   ],
   "source": [
    "# pipeline\n",
    "\n",
    "try:\n",
    "    config = ConfigurationManager()\n",
    "    model_trainer_config = config.get_model_trainer_config()\n",
    "    model_trainer_config = ModelTrainer(config=model_trainer_config)\n",
    "    model_trainer_config.train()\n",
    "except Exception as e:\n",
    "    raise e"
   ]
  }
 ],
 "metadata": {
  "kernelspec": {
   "display_name": "textS",
   "language": "python",
   "name": "python3"
  },
  "language_info": {
   "codemirror_mode": {
    "name": "ipython",
    "version": 3
   },
   "file_extension": ".py",
   "mimetype": "text/x-python",
   "name": "python",
   "nbconvert_exporter": "python",
   "pygments_lexer": "ipython3",
   "version": "3.9.11"
  }
 },
 "nbformat": 4,
 "nbformat_minor": 2
}
